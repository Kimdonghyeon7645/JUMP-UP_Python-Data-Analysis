{
 "cells": [
  {
   "cell_type": "markdown",
   "metadata": {},
   "source": [
    "<span style=\"color:blue; font-size:16px; font-weight:bold;\">간단한 파이썬 테스트</span>"
   ]
  },
  {
   "cell_type": "code",
   "execution_count": 3,
   "metadata": {},
   "outputs": [
    {
     "name": "stdout",
     "output_type": "stream",
     "text": [
      "9 곱하기 3은 27 입니다\n"
     ]
    }
   ],
   "source": [
    "print (f\"9 곱하기 3은 {9*3} 입니다\")"
   ]
  },
  {
   "cell_type": "code",
   "execution_count": 4,
   "metadata": {},
   "outputs": [
    {
     "name": "stdout",
     "output_type": "stream",
     "text": [
      "9\n",
      "-20\n",
      "54\n",
      "34\n",
      "1.8\n",
      "1\n",
      "1.8\n",
      "1.8\n"
     ]
    }
   ],
   "source": [
    "# -*- coding: utf-8 -*-\n",
    "print(4 + 5)\n",
    "print(12 - 32)\n",
    "print((4 + 5) * 6)\n",
    "print(4 + 5 * 6)\n",
    "print(9 / 5)        # 파이썬2.x 버전에서는 정수/정수 연산 결과는 정수\n",
    "print(9 // 5)       # 정수로 나눌 때\n",
    "print(9.0 / 5.0)\n",
    "print(9 / 5.0)"
   ]
  },
  {
   "cell_type": "code",
   "execution_count": 5,
   "metadata": {},
   "outputs": [
    {
     "name": "stdout",
     "output_type": "stream",
     "text": [
      "False\n",
      "None\n",
      "True\n",
      "and\n",
      "as\n",
      "assert\n",
      "async\n",
      "await\n",
      "break\n",
      "class\n",
      "continue\n",
      "def\n",
      "del\n",
      "elif\n",
      "else\n",
      "except\n",
      "finally\n",
      "for\n",
      "from\n",
      "global\n",
      "if\n",
      "import\n",
      "in\n",
      "is\n",
      "lambda\n",
      "nonlocal\n",
      "not\n",
      "or\n",
      "pass\n",
      "raise\n",
      "return\n",
      "try\n",
      "while\n",
      "with\n",
      "yield\n"
     ]
    }
   ],
   "source": [
    "import keyword\n",
    "for i in keyword.kwlist:\n",
    "    print(i)"
   ]
  },
  {
   "cell_type": "code",
   "execution_count": 6,
   "metadata": {},
   "outputs": [
    {
     "name": "stdout",
     "output_type": "stream",
     "text": [
      "<class 'str'> <class 'int'>\n"
     ]
    }
   ],
   "source": [
    "a = \"123\"\n",
    "s=int(a)\n",
    "print(type(a), type(s))"
   ]
  },
  {
   "cell_type": "code",
   "execution_count": 7,
   "metadata": {},
   "outputs": [
    {
     "name": "stdout",
     "output_type": "stream",
     "text": [
      "579\n"
     ]
    }
   ],
   "source": [
    "a='123'\n",
    "b='456'\n",
    "print(int(a)+int(b))"
   ]
  },
  {
   "cell_type": "code",
   "execution_count": 9,
   "metadata": {},
   "outputs": [
    {
     "name": "stdout",
     "output_type": "stream",
     "text": [
      "Input Number:123\n",
      "Input Name: 김동현\n",
      "123,김동현\n"
     ]
    }
   ],
   "source": [
    "num = int(input('Input Number:'))   # 문자열은 ' ' or \" \"\n",
    "name = input('Input Name: ')\n",
    "\n",
    "#print(num, name)\n",
    "print(num, end=\",\")\n",
    "print(name)"
   ]
  },
  {
   "cell_type": "markdown",
   "metadata": {},
   "source": [
    "<span style=\"color:blue; font-size:16px; font-weight:bold;\">Slicing & Indexing</span>"
   ]
  },
  {
   "cell_type": "code",
   "execution_count": 11,
   "metadata": {},
   "outputs": [
    {
     "name": "stdout",
     "output_type": "stream",
     "text": [
      "Python Hello\n",
      "olleH\n"
     ]
    }
   ],
   "source": [
    "a = \"Hello Python\"\n",
    "print(a[6:] + ' ' + a[0:5])\n",
    "\n",
    "b=\"Hello\"\n",
    "print(b[::-1])"
   ]
  },
  {
   "cell_type": "code",
   "execution_count": 12,
   "metadata": {},
   "outputs": [
    {
     "name": "stdout",
     "output_type": "stream",
     "text": [
      "<class 'list'>\n",
      "<class 'tuple'>\n",
      "<class 'dict'>\n"
     ]
    }
   ],
   "source": [
    "print(type([]))      # 리스트\n",
    "print(type(()))      # 튜플\n",
    "print(type({}))      # 사전(dict) "
   ]
  },
  {
   "cell_type": "code",
   "execution_count": 13,
   "metadata": {},
   "outputs": [
    {
     "name": "stdout",
     "output_type": "stream",
     "text": [
      "<class 'list'>\n",
      "\n",
      "3\n",
      "\n",
      "2\n",
      "3\n",
      "[2, 3]\n",
      "\n",
      "[1, 2, 3, 1, 2, 3]\n",
      "[1, 2, 3, 1, 2, 3, 1, 2, 3]\n",
      "\n",
      "[1, 2, 3]\n"
     ]
    }
   ],
   "source": [
    "L = [1,2,3]\n",
    "print(type(L))\n",
    "print()\n",
    "print(len(L))\n",
    "print()\n",
    "print(L[1])\n",
    "print(L[-1])\n",
    "print(L[1:3])\n",
    "print()\n",
    "print(L + L)\n",
    "print(L * 3)\n",
    "print()\n",
    "print(L)"
   ]
  },
  {
   "cell_type": "code",
   "execution_count": 14,
   "metadata": {},
   "outputs": [
    {
     "name": "stdout",
     "output_type": "stream",
     "text": [
      "(1, 2, 3)\n",
      "[1, 2, 3]\n",
      "set\n"
     ]
    }
   ],
   "source": [
    "d={'one':[1,2,3], 'two':(1,2,3), 'three':'set'}\n",
    "print(d['two'])\n",
    "print(d['one'])\n",
    "print(d['three'])"
   ]
  },
  {
   "cell_type": "code",
   "execution_count": 15,
   "metadata": {},
   "outputs": [
    {
     "name": "stdout",
     "output_type": "stream",
     "text": [
      "[1, 10, 3]\n",
      "[8, 9, 10]\n"
     ]
    }
   ],
   "source": [
    "k=[1,2,3]\n",
    "k[1]=10\n",
    "print(k)\n",
    "\n",
    "k=[8,9,10]\n",
    "print(k)"
   ]
  },
  {
   "cell_type": "code",
   "execution_count": 16,
   "metadata": {},
   "outputs": [
    {
     "name": "stdout",
     "output_type": "stream",
     "text": [
      "range(0, 10)\n",
      "[0, 1, 2, 3, 4, 5, 6, 7, 8, 9]\n",
      "[9, 8, 7, 6, 5, 4, 3, 2, 1, 0]\n",
      "[0, 2, 4, 6, 8]\n"
     ]
    }
   ],
   "source": [
    "p=range(10)    # range(k): 0 부터 (k-1)까지 range object를 반환\n",
    "\n",
    "print(p)\n",
    "print(list(p))\n",
    "print(list(p)[::-1])\n",
    "print(list(p)[::2])"
   ]
  },
  {
   "cell_type": "code",
   "execution_count": 17,
   "metadata": {},
   "outputs": [
    {
     "name": "stdout",
     "output_type": "stream",
     "text": [
      "(1, 2, 3)\n",
      "3\n",
      "3\n",
      "(1, 2, 3, 1, 2, 3, 1, 2, 3)\n",
      "(1, 2, 3, 1, 2, 3, 1, 2, 3)\n",
      "False\n"
     ]
    }
   ],
   "source": [
    "t=(1,2,3)\n",
    "\n",
    "print(t)\n",
    "print(len(t))  # t의 길이\n",
    "print(t[-1])   # 뒤에서 첫번째 값\n",
    "print(t+t+t)\n",
    "print(t*3)\n",
    "print(4 in t)  # t안에 4이 있는지?"
   ]
  },
  {
   "cell_type": "code",
   "execution_count": 18,
   "metadata": {},
   "outputs": [
    {
     "name": "stdout",
     "output_type": "stream",
     "text": [
      "apple\n"
     ]
    }
   ],
   "source": [
    "d = {'one': 'apple', 'two': 'orange', 'three': 'banana'}\n",
    "print(d['one'])"
   ]
  },
  {
   "cell_type": "code",
   "execution_count": 19,
   "metadata": {},
   "outputs": [
    {
     "name": "stdout",
     "output_type": "stream",
     "text": [
      "{'one': 'apple', 'two': 'orange', 'three': 'banana', 'four': 'melon'}\n",
      "{'one': 'stawberry', 'two': 'orange', 'three': 'banana', 'four': 'melon'}\n",
      "True\n",
      "dict_keys(['one', 'two', 'three', 'four'])\n",
      "dict_values(['stawberry', 'orange', 'banana', 'melon'])\n",
      "dict_items([('one', 'stawberry'), ('two', 'orange'), ('three', 'banana'), ('four', 'melon')])\n"
     ]
    }
   ],
   "source": [
    "d = {'one': 'apple', 'two': 'orange', 'three': 'banana'}\n",
    "d['four']='melon'\n",
    "print(d)\n",
    "\n",
    "d['one']='stawberry'\n",
    "print(d)\n",
    "print('two' in d)  # d에 two가 있는지?\n",
    "\n",
    "print(d.keys())\n",
    "print(d.values())\n",
    "print(d.items())"
   ]
  }
 ],
 "metadata": {
  "kernelspec": {
   "display_name": "Python 3",
   "language": "python",
   "name": "python3"
  },
  "language_info": {
   "codemirror_mode": {
    "name": "ipython",
    "version": 3
   },
   "file_extension": ".py",
   "mimetype": "text/x-python",
   "name": "python",
   "nbconvert_exporter": "python",
   "pygments_lexer": "ipython3",
   "version": "3.7.6"
  }
 },
 "nbformat": 4,
 "nbformat_minor": 4
}
