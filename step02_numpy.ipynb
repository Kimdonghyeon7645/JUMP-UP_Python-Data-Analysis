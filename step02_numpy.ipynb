{
 "cells": [
  {
   "cell_type": "markdown",
   "metadata": {},
   "source": [
    "<p><span style=\"color:green; font-size:20px; font-weight:bold;\">numpy</span></p>"
   ]
  },
  {
   "cell_type": "markdown",
   "metadata": {},
   "source": [
    "#### 데이터 마이닝\n",
    "데이터에서 의미 있는 정보를 추출하는 기술 (고급 통계 분석 + 모델링 기법 적용)\n",
    "\n",
    "#### 텍스트 마이닝\n",
    "텍스트 문서에서 의미 있는 정보를 추출하는 기술 (비정형 텍스트 데이터를 정형화 _ 특징 추출 과정 요구)"
   ]
  },
  {
   "cell_type": "markdown",
   "metadata": {},
   "source": [
    "## numpy란\n",
    "\n",
    "다차원 배열(ndarray)을 편하게 처리하도록 지원하는 파이썬 라이브러리\n",
    "(서로 다른 타입 데이터 못담음)\n",
    "\n",
    "선형대수, 난수 발생기 있음\n",
    "• 반복문을 작성할 필요 없어 전체 데이터에 대해 빠른 연산을 제공 (표준 수학 함수)\n"
   ]
  },
  {
   "cell_type": "markdown",
   "metadata": {},
   "source": [
    ">  ndarray vs list  \n",
    "• ndarray : 적은 메모리로 데이터를 빠르게 처리하고, 모든 원소는 같은 자료형을 가진다.  \n",
    "• list : 속도가 매우 느리고, 원소가 각각 다른 자료형을 가질 수 있다."
   ]
  },
  {
   "cell_type": "markdown",
   "metadata": {},
   "source": [
    "## 데이터 타입 종류\n",
    "\n",
    "### (1) int(8bit, 16bit, 32bit, 64bit) i1, i2, i4, i8  \n",
    "- 부호가 있다.\n",
    "- 비트수 만큼 크기를 가지는 정수형이다.\n",
    "- 저장할 수 있는 값의 범위 : -2ⁿ⁻¹ ~ 2ⁿ⁻¹-1\n",
    "\n",
    "### (2) uint(8bit, 16bit, 32bit, 64bit) u1, u2, u4, u8  \n",
    "- 부호가 없다.\n",
    "- 비트수 만큼 크기를 가지는 정수형이다.\n",
    "- 저장할 수 있는 값의 범위 : 0 ~ 2ⁿ-1\n",
    "\n",
    "### (3) float(16bit, 32bit, 64bit, 128bit) f2, f4, f8, f16  \n",
    "- 부호가 있다.\n",
    "- 비트수 만큼 크기를 가지는 실수형이다.\n",
    "\n",
    "### (4) 복소수형  \n",
    "- complex64 : 두개의 32비트 부동 소수점으로 표시되는 복소수 c8\n",
    "- complex128 : 두개의 64비트 부동소수점으로 표시되는 복소수 c16\n",
    "\n",
    "### (5) unicode  \n",
    "- 고정 길이 문자열 Unicode\n",
    "\n",
    "### (6) bool  \n",
    "- True, False\n",
    "\n",
    "### (7) 데이터 타입 확인 및 변경  \n",
    "- dtype : 자료형 확인\n",
    "- astype : 자료형 변경"
   ]
  },
  {
   "cell_type": "code",
   "execution_count": 6,
   "metadata": {},
   "outputs": [],
   "source": [
    "import numpy as np"
   ]
  },
  {
   "cell_type": "code",
   "execution_count": 8,
   "metadata": {},
   "outputs": [
    {
     "data": {
      "text/plain": [
       "array([[1, 2, 3],\n",
       "       [4, 5, 6],\n",
       "       [7, 8, 9]])"
      ]
     },
     "execution_count": 8,
     "metadata": {},
     "output_type": "execute_result"
    }
   ],
   "source": [
    "data = [[1, 2, 3], [4, 5, 6], [7, 8, 9]]\n",
    "a = np.array(data)\n",
    "a"
   ]
  },
  {
   "cell_type": "code",
   "execution_count": null,
   "metadata": {},
   "outputs": [],
   "source": []
  }
 ],
 "metadata": {
  "kernelspec": {
   "display_name": "Python 3",
   "language": "python",
   "name": "python3"
  },
  "language_info": {
   "codemirror_mode": {
    "name": "ipython",
    "version": 3
   },
   "file_extension": ".py",
   "mimetype": "text/x-python",
   "name": "python",
   "nbconvert_exporter": "python",
   "pygments_lexer": "ipython3",
   "version": "3.7.6"
  }
 },
 "nbformat": 4,
 "nbformat_minor": 4
}
