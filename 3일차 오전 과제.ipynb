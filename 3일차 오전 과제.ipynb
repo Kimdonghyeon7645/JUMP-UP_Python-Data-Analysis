{
 "cells": [
  {
   "cell_type": "markdown",
   "metadata": {},
   "source": [
    "## [문제1] 성별 인구수를 나타내는 그래프를 작성하시오\n",
    "<pre>\n",
    "1. 그래프는 plot(선)으로 하시오\n",
    "2. gender.csv를 이용하시오\n",
    "3. 제목과 범례 추가\n",
    "   제목: 천전동 성별 인구수\n",
    "   x축 제목: 나이\n",
    "   y축 제목: 인구수\n",
    "   범례: 남자, 여자    (남자는 파랑, 여자는 빨강)\n",
    "4. 지역은 본인이 사는 지역 (ex. 천전동)으로 하시오   \n",
    "</pre>\n",
    "-------------------------"
   ]
  },
  {
   "cell_type": "markdown",
   "metadata": {},
   "source": [
    "![answer1](https://user-images.githubusercontent.com/48408417/90712901-02284780-e2df-11ea-9329-feaae2c7e098.png)"
   ]
  },
  {
   "cell_type": "code",
   "execution_count": 2,
   "metadata": {},
   "outputs": [],
   "source": [
    "import csv\n",
    "import matplotlib.pyplot as plt"
   ]
  },
  {
   "cell_type": "code",
   "execution_count": 4,
   "metadata": {},
   "outputs": [
    {
     "data": {
      "text/plain": [
       "[]"
      ]
     },
     "execution_count": 4,
     "metadata": {},
     "output_type": "execute_result"
    },
    {
     "data": {
      "image/png": "[encoded data removed]",
      "text/plain": [
       "<Figure size 432x288 with 1 Axes>"
      ]
     },
     "metadata": {},
     "output_type": "display_data"
    }
   ],
   "source": [
    "plt.style.use('ggplot')\n",
    "plt.plot()"
   ]
  },
  {
   "cell_type": "markdown",
   "metadata": {},
   "source": [
    "## [문제2] 2019년 2월 현재 지역별 인구수구하기\n",
    "\n",
    "<pre>\n",
    "인구수가 알고 싶은 지역을 입력하시오: 천전동\n",
    "\n",
    "1 ~  20세 인구수: 남자: 2965 여자: 2557\n",
    "21 ~ 60세 인구수: 남자: 8807 여자: 8420\n",
    "61세 이상 인구수: 남자: 3090 여자: 4165</pre>"
   ]
  },
  {
   "cell_type": "code",
   "execution_count": null,
   "metadata": {},
   "outputs": [],
   "source": []
  }
 ],
 "metadata": {
  "kernelspec": {
   "display_name": "Python 3",
   "language": "python",
   "name": "python3"
  },
  "language_info": {
   "codemirror_mode": {
    "name": "ipython",
    "version": 3
   },
   "file_extension": ".py",
   "mimetype": "text/x-python",
   "name": "python",
   "nbconvert_exporter": "python",
   "pygments_lexer": "ipython3",
   "version": "3.7.6"
  }
 },
 "nbformat": 4,
 "nbformat_minor": 4
}
