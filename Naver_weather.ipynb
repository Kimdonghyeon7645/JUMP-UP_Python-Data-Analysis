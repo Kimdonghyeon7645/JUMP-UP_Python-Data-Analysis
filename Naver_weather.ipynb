{
 "cells": [
  {
   "cell_type": "markdown",
   "metadata": {},
   "source": [
    "## 네이버 날씨로 동네 날씨 크롤링"
   ]
  },
  {
   "cell_type": "code",
   "execution_count": 1,
   "metadata": {},
   "outputs": [],
   "source": [
    "import requests\n",
    "from bs4 import BeautifulSoup"
   ]
  },
  {
   "cell_type": "code",
   "execution_count": null,
   "metadata": {},
   "outputs": [],
   "source": [
    "dong = input('동네를 입력하세요: ')\n",
    "url = 'https://search.naver.com/search.naver?sm=top_hty&fbm=1&ie=utf8&query=' + dong + '+날씨'\n",
    "html = requests.get(url)\n",
    "soup = BeautifulSoup(html.text, 'html.parser')\n",
    "box = soup.select_one('div._mainArea')\n",
    "\n",
    "print(\"현재 위치:\", box.select_one('div._areaSelectLayer').em.text)\n",
    "print('현재', dong, '기온은', str(box.select_one('span.todaytemp').text)+'도 입니다.')\n",
    "\n",
    "dust_list = zip(box.select('div.sub_info dl dt a'), box.select('div.sub_info dl dd span.num'))\n",
    "for dust in dust_list:\n",
    "    print(f'현재 {dust[0].text}: {dust[1].text}')\n",
    "print(box.select_one('p.cast_txt').text)"
   ]
  }
 ],
 "metadata": {
  "kernelspec": {
   "display_name": "Python 3",
   "language": "python",
   "name": "python3"
  },
  "language_info": {
   "codemirror_mode": {
    "name": "ipython",
    "version": 3
   },
   "file_extension": ".py",
   "mimetype": "text/x-python",
   "name": "python",
   "nbconvert_exporter": "python",
   "pygments_lexer": "ipython3",
   "version": "3.7.6"
  }
 },
 "nbformat": 4,
 "nbformat_minor": 4
}
